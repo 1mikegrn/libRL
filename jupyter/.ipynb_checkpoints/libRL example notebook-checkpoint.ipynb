{
 "cells": [
  {
   "cell_type": "code",
   "execution_count": 3,
   "metadata": {},
   "outputs": [],
   "source": [
    "import libRL\n",
    "import pandas as pd\n",
    "\n",
    "url = 'https://raw.githubusercontent.com/1mikegrn/libRL-package/master/test/paraffin_data.csv'\n",
    "\n",
    "import_data = pd.read_csv(url).to_numpy()\n",
    "\n",
    "reflection_loss = libRL.reflection_loss(\n",
    "        data = url,\n",
    "        d_set = (1,5,0.1),\n",
    "        as_dataframe = True\n",
    "        )"
   ]
  },
  {
   "cell_type": "code",
   "execution_count": 4,
   "metadata": {},
   "outputs": [
    {
     "name": "stdout",
     "output_type": "stream",
     "text": [
      "            RL      f    d\n",
      "0    -0.023297   1.00  1.0\n",
      "1    -0.028168   1.34  1.0\n",
      "2    -0.020764   1.68  1.0\n",
      "3    -0.026814   2.02  1.0\n",
      "4    -0.024204   2.36  1.0\n",
      "...        ...    ...  ...\n",
      "2086 -0.472380  16.64  5.0\n",
      "2087 -0.452870  16.98  5.0\n",
      "2088 -0.494793  17.32  5.0\n",
      "2089 -0.517508  17.66  5.0\n",
      "2090 -0.540323  18.00  5.0\n",
      "\n",
      "[2091 rows x 3 columns]\n"
     ]
    }
   ],
   "source": [
    "print(reflection_loss)"
   ]
  },
  {
   "cell_type": "code",
   "execution_count": null,
   "metadata": {},
   "outputs": [],
   "source": []
  }
 ],
 "metadata": {
  "kernelspec": {
   "display_name": "Python 3",
   "language": "python",
   "name": "python3"
  },
  "language_info": {
   "codemirror_mode": {
    "name": "ipython",
    "version": 3
   },
   "file_extension": ".py",
   "mimetype": "text/x-python",
   "name": "python",
   "nbconvert_exporter": "python",
   "pygments_lexer": "ipython3",
   "version": "3.7.4"
  }
 },
 "nbformat": 4,
 "nbformat_minor": 2
}
